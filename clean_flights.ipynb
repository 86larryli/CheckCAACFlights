{
 "cells": [
  {
   "cell_type": "code",
   "execution_count": 1,
   "id": "162401ef-9a39-41f0-8e5f-2b251308922a",
   "metadata": {},
   "outputs": [],
   "source": [
    "import json\n",
    "import time\n",
    "from datetime import datetime, timedelta\n",
    "\n",
    "import pytz"
   ]
  },
  {
   "cell_type": "code",
   "execution_count": 2,
   "id": "c132bb27-a217-4e8d-8f6b-c176b91a3ee9",
   "metadata": {},
   "outputs": [],
   "source": [
    "flight_plans_file = open(\"data/plans.json\", \"r\", encoding=\"utf-8\")\n",
    "flight_plans_dict = json.load(flight_plans_file)\n",
    "flight_plans_file.close()"
   ]
  },
  {
   "cell_type": "code",
   "execution_count": 3,
   "id": "0d4cd09d-9e0c-4ab6-83b3-265608d7ffae",
   "metadata": {},
   "outputs": [],
   "source": [
    "def formatDate(timestamp, timezone, day_offset=0):\n",
    "    tz = pytz.timezone(timezone)\n",
    "    return {\n",
    "        \"date\": (datetime.fromtimestamp(timestamp / 1000, tz) + timedelta(day_offset)).date().strftime(\"%Y-%m-%d\"),\n",
    "        \"day\": (datetime.fromtimestamp(timestamp / 1000, tz) + timedelta(day_offset)).date().strftime(\"%a\"),\n",
    "    }\n",
    "\n",
    "\n",
    "def clean_fltDate(json_data):\n",
    "    timezone_map = {\n",
    "        \"洛杉矶\": \"America/Los_Angeles\",\n",
    "        \"纽约\": \"America/New_York\",\n",
    "        \"旧金山\": \"America/Los_Angeles\",\n",
    "        \"西雅图\": \"America/Los_Angeles\",\n",
    "        \"底特律\": \"US/Michigan\",\n",
    "        \"达拉斯\": \"America/Mexico_City\",\n",
    "    }\n",
    "\n",
    "    for route in json_data:\n",
    "        for (i, schedule) in enumerate(json_data[route]):\n",
    "            if route == \"洛杉矶-广州\" and schedule[\"airline\"] == \"中国南方航空股份有限公司\":\n",
    "                date = formatDate(schedule[\"fltDate\"], timezone_map[schedule[\"ori\"]], -1)\n",
    "            if route == \"西雅图-上海\" and schedule[\"airline\"] == \"达美航空公司\":\n",
    "                date = formatDate(schedule[\"fltDate\"], timezone_map[schedule[\"ori\"]], -1)\n",
    "            if route == \"底特律-上海\" and schedule[\"airline\"] == \"达美航空公司\":\n",
    "                date = formatDate(schedule[\"fltDate\"], timezone_map[schedule[\"ori\"]], -1)\n",
    "            else:\n",
    "                date = formatDate(schedule[\"fltDate\"], timezone_map[schedule[\"ori\"]])\n",
    "\n",
    "            json_data[route][i][\"fltDate\"] = date[\"date\"]\n",
    "            json_data[route][i][\"fltDay\"] = date[\"day\"]\n",
    "\n",
    "    return json_data"
   ]
  },
  {
   "cell_type": "code",
   "execution_count": 4,
   "id": "7471dafd-fda8-4996-8e7a-dc5f801e4a2a",
   "metadata": {},
   "outputs": [],
   "source": [
    "def translate(json_data):\n",
    "    translate_map = {\n",
    "        \"中国东方航空公司\": \"China Eastern Airlines\",\n",
    "        \"中国南方航空股份有限公司\": \"China Southern Airlines\",\n",
    "        \"达美航空公司\": \"Delta Air Lines\",\n",
    "        \"厦门航空有限公司\": \"Xiamen Air\",\n",
    "        \"中国国际航空股份有限公司\": \"Air China\",\n",
    "        \"美国航空公司\": \"American Airlines\",\n",
    "        \"美国联合航空公司\": \"United Airlines\",\n",
    "        \"技术经停\": \"Technical Stop\",\n",
    "        \"首尔\": \"Seoul\",\n",
    "        \"浦东\": \"Shanghai (PVG)\",\n",
    "        \"首都\": \"Beijing (PEK)\",\n",
    "        \"底特律\": \"Detroit\",\n",
    "        \"纽约\": \"New York\",\n",
    "        \"洛杉矶\": \"Los Angeles\",\n",
    "        \"达拉斯\": \"Dallas\",\n",
    "        \"西雅图\": \"Seattle\",\n",
    "        \"旧金山\": \"San Francisco\",\n",
    "        \"广州\": \"Guangzhou\",\n",
    "        \"厦门\": \"Xiamen\",\n",
    "        \"北京\": \"Beijing\",\n",
    "        \"深圳\": \"Shenzhen\",\n",
    "        \"福州\": \"Fuzhou\",\n",
    "        \"上海\": \"Shanghai\",\n",
    "        \"天津\": \"Tianjin\",\n",
    "    }\n",
    "\n",
    "    string_data = json.dumps(json_data, ensure_ascii=False)\n",
    "\n",
    "    for cn in translate_map:\n",
    "        string_data = string_data.replace(cn, translate_map[cn])\n",
    "\n",
    "    return json.loads(string_data)"
   ]
  },
  {
   "cell_type": "code",
   "execution_count": 5,
   "id": "15bb8db4-233c-4946-9ff1-196164e2f2fe",
   "metadata": {},
   "outputs": [],
   "source": [
    "def removeKey(json_data, keys_to_remove):\n",
    "    for route in json_data:\n",
    "        for (i, schedule) in enumerate(json_data[route]):\n",
    "            for key in keys_to_remove:\n",
    "                del json_data[route][i][key]\n",
    "\n",
    "    return json_data"
   ]
  },
  {
   "cell_type": "code",
   "execution_count": 6,
   "id": "6b26f832-0be9-4832-bdaa-98f8fddaba49",
   "metadata": {},
   "outputs": [],
   "source": [
    "def write_to_file(d, file_name):\n",
    "    output = open(file_name, \"w\", encoding=\"utf-8\")\n",
    "    json.dump(d, output, ensure_ascii=False)\n",
    "    output.close()"
   ]
  },
  {
   "cell_type": "code",
   "execution_count": 7,
   "id": "957cc4fc-caec-4ece-a035-51c0bbde8bc4",
   "metadata": {},
   "outputs": [],
   "source": [
    "flight_plans_dict = clean_fltDate(flight_plans_dict)\n",
    "flight_plans_dict = translate(flight_plans_dict)\n",
    "flight_plans_dict = removeKey(flight_plans_dict, [\"fltSchedule\", \"importTime\"])\n",
    "write_to_file(flight_plans_dict, \"./data/plans_cleaned_en.json\")"
   ]
  }
 ],
 "metadata": {
  "kernelspec": {
   "display_name": "Python 3 (ipykernel)",
   "language": "python",
   "name": "python3"
  },
  "language_info": {
   "codemirror_mode": {
    "name": "ipython",
    "version": 3
   },
   "file_extension": ".py",
   "mimetype": "text/x-python",
   "name": "python",
   "nbconvert_exporter": "python",
   "pygments_lexer": "ipython3",
   "version": "3.10.2"
  }
 },
 "nbformat": 4,
 "nbformat_minor": 5
}
